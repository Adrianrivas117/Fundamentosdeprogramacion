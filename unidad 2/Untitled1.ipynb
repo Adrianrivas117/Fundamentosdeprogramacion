{
  "metadata": {
    "kernelspec": {
      "name": "xpython",
      "display_name": "Python 3.13 (XPython)",
      "language": "python"
    },
    "language_info": {
      "file_extension": ".py",
      "mimetype": "text/x-python",
      "name": "python",
      "version": "3.13.1"
    }
  },
  "nbformat_minor": 5,
  "nbformat": 4,
  "cells": [
    {
      "id": "de7ffa08-bdae-4901-b11e-3e221548d9ba",
      "cell_type": "code",
      "source": "edades = {\n    \"Brayan\": 25,\n    \"Luis\": 30,\n    \"José\": 22\n}\nprint(\"Edad de Luis:\", edades[\"Luis\"])    \nedades[\"Brayan\"] = 28\nprint(\"\\nDespués de añadir a Brayan:\")\nprint(edades)                               \n\nedades[\"Luis\"] = 26\nprint(\"\\nDespués de actualizar la edad de Luis:\")\nprint(edades)                              \n\ndel edades[\"José\"]\nprint(\"\\nDespués de eliminar a José:\")\nprint(edades)                               \n\nprint(\"\\nRecorriendo el diccionario:\")\nfor nombre, edad in edades.items():\n    print(f\"{nombre} tiene {edad} años\")\n    ",
      "metadata": {
        "trusted": true
      },
      "outputs": [
        {
          "name": "stdout",
          "output_type": "stream",
          "text": "Edad de Luis: 30\n\nDespués de añadir a Brayan:\n{'Brayan': 28, 'Luis': 30, 'José': 22}\n\nDespués de actualizar la edad de Luis:\n{'Brayan': 28, 'Luis': 26, 'José': 22}\n\nDespués de eliminar a José:\n{'Brayan': 28, 'Luis': 26}\n\nRecorriendo el diccionario:\nBrayan tiene 28 años\nLuis tiene 26 años\n"
        }
      ],
      "execution_count": 1
    },
    {
      "id": "4049f852-97cd-43ee-8c5e-7f6dca7e82ef",
      "cell_type": "code",
      "source": "",
      "metadata": {
        "trusted": true
      },
      "outputs": [],
      "execution_count": null
    },
    {
      "id": "a5304b24-541e-4555-b819-a07ae8250c63",
      "cell_type": "code",
      "source": "",
      "metadata": {
        "trusted": true
      },
      "outputs": [],
      "execution_count": null
    },
    {
      "id": "d1e79d0d-0373-4906-a455-3d318f128398",
      "cell_type": "code",
      "source": "",
      "metadata": {
        "trusted": true
      },
      "outputs": [],
      "execution_count": null
    }
  ]
}