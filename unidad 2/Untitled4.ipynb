{
  "metadata": {
    "kernelspec": {
      "name": "xpython",
      "display_name": "Python 3.13 (XPython)",
      "language": "python"
    },
    "language_info": {
      "file_extension": ".py",
      "mimetype": "text/x-python",
      "name": "python",
      "version": "3.13.1"
    }
  },
  "nbformat_minor": 5,
  "nbformat": 4,
  "cells": [
    {
      "id": "4acf2c01-4497-455a-a3dd-5182f7005863",
      "cell_type": "code",
      "source": "lista_nombres = []\nprint(\" Lista de nombres \")\nproducto1 = input(\" Agrega el primer producto: \")\nlista_nombres.append(producto1)\nproducto2 = input(\"Agrega el segundo producto: \")\nlista_nombres.append(producto2)\nproducto3 = input(\"Agrega el tercer producto: \")\nlista_nombres.append(producto3)\nproducto4 = input(\"Agrega el cuarto producto: \")\nlista_nombres.append(producto4)\nprint(\"\\n Tu lista de nombres es:\")\nfor producto in lista_nombres:\n    print(f\"- {producto}\")\nprint(\"\\n✅ ¡Lista creada con éxito!\")\n#https://www.webfx.com/tools/emoji-cheat-sheet/\n",
      "metadata": {
        "trusted": true
      },
      "outputs": [
        {
          "name": "stdout",
          "output_type": "stream",
          "text": " Lista de nombres \n"
        }
      ],
      "execution_count": null
    },
    {
      "id": "1f703e33-b196-466d-bf12-44879f4a0467",
      "cell_type": "code",
      "source": "",
      "metadata": {
        "trusted": true
      },
      "outputs": [],
      "execution_count": null
    },
    {
      "id": "34d97b79-da14-41c4-9894-972e07f000f6",
      "cell_type": "code",
      "source": "",
      "metadata": {
        "trusted": true
      },
      "outputs": [],
      "execution_count": null
    }
  ]
}